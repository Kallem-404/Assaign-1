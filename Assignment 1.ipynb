{
 "cells": [
  {
   "cell_type": "markdown",
   "id": "db4987bf",
   "metadata": {},
   "source": [
    "# Build a Calculator:"
   ]
  },
  {
   "cell_type": "code",
   "execution_count": 2,
   "id": "75107a0c",
   "metadata": {},
   "outputs": [
    {
     "name": "stdout",
     "output_type": "stream",
     "text": [
      "Select operation.\n",
      "1.Add\n",
      "2.Subtract\n",
      "3.Multiply\n",
      "4.Divide\n",
      "Enter choice(1/2/3/4): 1\n",
      "Enter first number: 15\n",
      "Enter second number: 15\n",
      "15.0 + 15.0 = 30.0\n",
      "Let's do next calculation? (yes/no): yes\n",
      "Enter choice(1/2/3/4): 2\n",
      "Enter first number: 6\n",
      "Enter second number: 9\n",
      "6.0 - 9.0 = -3.0\n",
      "Let's do next calculation? (yes/no): no\n"
     ]
    }
   ],
   "source": [
    "# This function adds two numbers\n",
    "def add(x, y):\n",
    "    return x + y\n",
    "\n",
    "# This function subtracts two numbers\n",
    "def subtract(x, y):\n",
    "    return x - y\n",
    "\n",
    "# This function multiplies two numbers\n",
    "def multiply(x, y):\n",
    "    return x * y\n",
    "\n",
    "# This function divides two numbers\n",
    "def divide(x, y):\n",
    "    return x / y\n",
    "\n",
    "\n",
    "print(\"Select operation.\")\n",
    "print(\"1.Add\")\n",
    "print(\"2.Subtract\")\n",
    "print(\"3.Multiply\")\n",
    "print(\"4.Divide\")\n",
    "\n",
    "while True:\n",
    "    # take input from the user\n",
    "    choice = input(\"Enter choice(1/2/3/4): \")\n",
    "\n",
    "    # check if choice is one of the four options\n",
    "    if choice in ('1', '2', '3', '4'):\n",
    "        num1 = float(input(\"Enter first number: \"))\n",
    "        num2 = float(input(\"Enter second number: \"))\n",
    "\n",
    "        if choice == '1':\n",
    "            print(num1, \"+\", num2, \"=\", add(num1, num2))\n",
    "\n",
    "        elif choice == '2':\n",
    "            print(num1, \"-\", num2, \"=\", subtract(num1, num2))\n",
    "\n",
    "        elif choice == '3':\n",
    "            print(num1, \"*\", num2, \"=\", multiply(num1, num2))\n",
    "\n",
    "        elif choice == '4':\n",
    "            print(num1, \"/\", num2, \"=\", divide(num1, num2))\n",
    "        \n",
    "        # check if user wants another calculation\n",
    "        # break the while loop if answer is no\n",
    "        next_calculation = input(\"Let's do next calculation? (yes/no): \")\n",
    "        if next_calculation == \"no\":\n",
    "          break\n",
    "    \n",
    "    else:\n",
    "        print(\"Invalid Input\")"
   ]
  },
  {
   "cell_type": "markdown",
   "id": "e5495436",
   "metadata": {},
   "source": [
    "# Area of a Triangle:"
   ]
  },
  {
   "cell_type": "code",
   "execution_count": 5,
   "id": "3ac526a0",
   "metadata": {},
   "outputs": [
    {
     "name": "stdout",
     "output_type": "stream",
     "text": [
      "Enter first side: 4\n",
      "Enter second side: 5\n",
      "Enter third side: 6\n",
      "The area of the triangle is 9.92\n"
     ]
    }
   ],
   "source": [
    "a = float(input('Enter first side: '))\n",
    "b = float(input('Enter second side: '))\n",
    "c = float(input('Enter third side: '))\n",
    "\n",
    "# calculate the semi-perimeter\n",
    "s = (a + b + c) / 2\n",
    "\n",
    "# calculate the area\n",
    "area = (s*(s-a)*(s-b)*(s-c)) ** 0.5\n",
    "print('The area of the triangle is %0.2f' %area)"
   ]
  },
  {
   "cell_type": "markdown",
   "id": "717b50be",
   "metadata": {},
   "source": [
    "# Swap two Numbers"
   ]
  },
  {
   "cell_type": "code",
   "execution_count": 12,
   "id": "34a5fd35",
   "metadata": {},
   "outputs": [
    {
     "name": "stdout",
     "output_type": "stream",
     "text": [
      "Enter value of x: 69\n",
      "Enter value of y: 45\n",
      "The value of x after swapping: 45\n",
      "The value of y after swapping: 69\n"
     ]
    }
   ],
   "source": [
    "x = input('Enter value of x: ')\n",
    "y = input('Enter value of y: ')\n",
    "\n",
    "# create a temporary variable and swap the values\n",
    "temp = x\n",
    "x = y\n",
    "y = temp\n",
    "\n",
    "print('The value of x after swapping: {}'.format(x))\n",
    "print('The value of y after swapping: {}'.format(y))\n"
   ]
  },
  {
   "cell_type": "markdown",
   "id": "1748b089",
   "metadata": {},
   "source": [
    "# Kilometer to Miles converter"
   ]
  },
  {
   "cell_type": "code",
   "execution_count": 3,
   "id": "74328957",
   "metadata": {},
   "outputs": [
    {
     "name": "stdout",
     "output_type": "stream",
     "text": [
      "Enter a value:3.5\n",
      " 3.50 km is equal to 5.67 miles\n"
     ]
    }
   ],
   "source": [
    "km = float(input(\"Enter a value:\"))\n",
    "conv_factor = 1.62\n",
    "miles = km*conv_factor\n",
    "print(' %0.2f km is equal to %0.2f miles' %(km,miles))"
   ]
  },
  {
   "cell_type": "markdown",
   "id": "5d038bd1",
   "metadata": {},
   "source": [
    "# Square root of a given number"
   ]
  },
  {
   "cell_type": "code",
   "execution_count": 4,
   "id": "71f91762",
   "metadata": {},
   "outputs": [
    {
     "name": "stdout",
     "output_type": "stream",
     "text": [
      "enter a number:144\n",
      "square root: 12.0\n"
     ]
    }
   ],
   "source": [
    "import math\n",
    "number = int(input(\"enter a number:\"))\n",
    "sqrt = math.sqrt(number)\n",
    "print(\"square root:\" , sqrt)"
   ]
  },
  {
   "cell_type": "markdown",
   "id": "9e117684",
   "metadata": {},
   "source": [
    "# Largest among three numbers"
   ]
  },
  {
   "cell_type": "code",
   "execution_count": 8,
   "id": "bf624dff",
   "metadata": {},
   "outputs": [
    {
     "name": "stdout",
     "output_type": "stream",
     "text": [
      "32\n"
     ]
    }
   ],
   "source": [
    "num1 = 5\n",
    "num2 = 12\n",
    "num3 = 32\n",
    "print(max(num1,num2,num3))"
   ]
  },
  {
   "cell_type": "markdown",
   "id": "69254be2",
   "metadata": {},
   "source": [
    "# To check given number is prime number or not"
   ]
  },
  {
   "cell_type": "code",
   "execution_count": 11,
   "id": "10f85ba7",
   "metadata": {},
   "outputs": [
    {
     "name": "stdout",
     "output_type": "stream",
     "text": [
      "Enter a number:10\n",
      "The given number 10 is not a prime number\n"
     ]
    }
   ],
   "source": [
    "number = int(input(\"Enter a number:\"))\n",
    "temp = False\n",
    "if number > 1:\n",
    "    for i in range(2,number):\n",
    "        if (number % i) == 0:\n",
    "            temp = True\n",
    "        break\n",
    "if(temp):\n",
    "    print(\"The given number\", number,\"is not a prime number\")\n",
    "else:\n",
    "    print(\"The given number\", number,\"is  a prime number\")\n",
    "\n",
    "        "
   ]
  },
  {
   "cell_type": "code",
   "execution_count": null,
   "id": "1859e867",
   "metadata": {},
   "outputs": [],
   "source": []
  }
 ],
 "metadata": {
  "kernelspec": {
   "display_name": "Python 3 (ipykernel)",
   "language": "python",
   "name": "python3"
  },
  "language_info": {
   "codemirror_mode": {
    "name": "ipython",
    "version": 3
   },
   "file_extension": ".py",
   "mimetype": "text/x-python",
   "name": "python",
   "nbconvert_exporter": "python",
   "pygments_lexer": "ipython3",
   "version": "3.10.0"
  }
 },
 "nbformat": 4,
 "nbformat_minor": 5
}
